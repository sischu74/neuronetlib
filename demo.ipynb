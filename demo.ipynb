{
  "metadata": {
    "language_info": {
      "codemirror_mode": {
        "name": "python",
        "version": 3
      },
      "file_extension": ".py",
      "mimetype": "text/x-python",
      "name": "python",
      "nbconvert_exporter": "python",
      "pygments_lexer": "ipython3",
      "version": "3.8"
    },
    "kernelspec": {
      "name": "python",
      "display_name": "Python (Pyodide)",
      "language": "python"
    }
  },
  "nbformat_minor": 4,
  "nbformat": 4,
  "cells": [
    {
      "cell_type": "code",
      "source": "pip install neuronetlib",
      "metadata": {},
      "execution_count": null,
      "outputs": []
    },
    {
      "cell_type": "code",
      "source": "# import neuronetlib with all its packages and train test split for the dataset\nfrom sklearn.model_selection import train_test_split\nimport neuronetlib\nfrom neuronetlib import conv_layer\nfrom neuronetlib import dense_layer\nfrom neuronetlib import pool_layer\nfrom neuronetlib import cnn\nfrom neuronetlib import initMNIST",
      "metadata": {},
      "execution_count": null,
      "outputs": []
    },
    {
      "cell_type": "code",
      "source": "# create a CNN network with custom parameters\nnetwork = neuronetlib.cnn.CNN(learning_rate=0.07, batch_size=0.05, targetAccuracy=0.91)\n\n# add a convolutional layer with 4 filters\nnetwork.addLayer(neuronetlib.conv_layer.conv_layer(filter_count=4))\n\n# add a pooling layer after the convolutional layer\nnetwork.addLayer(neuronetlib.pool_layer.pool_layer())",
      "metadata": {},
      "execution_count": null,
      "outputs": []
    },
    {
      "cell_type": "code",
      "source": "# use internal MNIST download tool to initialize the MNIST handwritten digit dataset\ntrain_data, train_labels = neuronetlib.initMNIST.load()\n\n# bring data into correct shape for network to work on (2d images - no color channels supported yet)\ntrain_data = train_data.reshape((train_data.shape[0], 28, 28))\n\ntrainX, testX, trainY, testY = train_test_split(train_data, train_labels,\n                                                    test_size=0.3)",
      "metadata": {},
      "execution_count": null,
      "outputs": []
    },
    {
      "cell_type": "code",
      "source": "# now train the network and test it by predicting on the test set\nnetwork.train(trainX, testX)\nnetwork.predict(testX, testY)",
      "metadata": {},
      "execution_count": null,
      "outputs": []
    }
  ]
}